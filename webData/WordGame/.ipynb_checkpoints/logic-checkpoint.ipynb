{
 "cells": [
  {
   "cell_type": "code",
   "execution_count": 1,
   "id": "e4a704a2",
   "metadata": {},
   "outputs": [],
   "source": [
    "import DBcm"
   ]
  },
  {
   "cell_type": "code",
   "execution_count": 2,
   "id": "b2a411ec",
   "metadata": {},
   "outputs": [],
   "source": [
    "config = {\n",
    "    'host': '127.0.0.1',\n",
    "    'database': 'leaderboardDB',\n",
    "    'user': 'leaderuser',\n",
    "    'password': 'leaderpasswd',\n",
    "}"
   ]
  },
  {
   "cell_type": "code",
   "execution_count": 3,
   "id": "52eb4e77",
   "metadata": {},
   "outputs": [],
   "source": [
    "with DBcm.UseDatabase(config) as db:\n",
    "    SQL = \"select * from wordLeaderboard\"\n",
    "    db.execute(SQL)\n",
    "    data = db.fetchall()"
   ]
  },
  {
   "cell_type": "code",
   "execution_count": 4,
   "id": "3af43fe1",
   "metadata": {},
   "outputs": [
    {
     "data": {
      "text/plain": [
       "list"
      ]
     },
     "execution_count": 4,
     "metadata": {},
     "output_type": "execute_result"
    }
   ],
   "source": [
    "type(data)"
   ]
  },
  {
   "cell_type": "code",
   "execution_count": 5,
   "id": "5732ec42",
   "metadata": {},
   "outputs": [
    {
     "data": {
      "text/plain": [
       "[]"
      ]
     },
     "execution_count": 5,
     "metadata": {},
     "output_type": "execute_result"
    }
   ],
   "source": [
    "data"
   ]
  },
  {
   "cell_type": "code",
   "execution_count": 6,
   "id": "0f81abb9",
   "metadata": {},
   "outputs": [],
   "source": [
    "def checkLength(word):\n",
    "    return len(word) >= 8"
   ]
  },
  {
   "cell_type": "code",
   "execution_count": 7,
   "id": "85de7566",
   "metadata": {},
   "outputs": [
    {
     "data": {
      "text/plain": [
       "False"
      ]
     },
     "execution_count": 7,
     "metadata": {},
     "output_type": "execute_result"
    }
   ],
   "source": [
    "checkLength(\"Hello\")"
   ]
  },
  {
   "cell_type": "code",
   "execution_count": 8,
   "id": "404a6390",
   "metadata": {},
   "outputs": [],
   "source": [
    "with open(\"small.txt\", \"w\") as sf:\n",
    "    with open(\"big.txt\", \"w\") as bf:\n",
    "        with open(\"dictionary.txt\") as wf:\n",
    "            for w in wf:\n",
    "                if \"'s\\n\" in w:\n",
    "                    continue\n",
    "                if len(w) < 5:\n",
    "                    continue\n",
    "                w = w.strip(\"\\n\").lower()\n",
    "                if len(w) > 7:\n",
    "                    print(w, file = bf)\n",
    "                else:\n",
    "                    print(w, file = sf)\n",
    "    "
   ]
  },
  {
   "cell_type": "code",
   "execution_count": 9,
   "id": "904bc79b",
   "metadata": {},
   "outputs": [],
   "source": [
    "import random"
   ]
  },
  {
   "cell_type": "code",
   "execution_count": 10,
   "id": "a23cce68",
   "metadata": {},
   "outputs": [],
   "source": [
    "num = random.randint(1,100)"
   ]
  },
  {
   "cell_type": "code",
   "execution_count": 11,
   "id": "6cd0d375",
   "metadata": {},
   "outputs": [
    {
     "data": {
      "text/plain": [
       "7"
      ]
     },
     "execution_count": 11,
     "metadata": {},
     "output_type": "execute_result"
    }
   ],
   "source": [
    "num"
   ]
  },
  {
   "cell_type": "code",
   "execution_count": 12,
   "id": "26c3da0c",
   "metadata": {},
   "outputs": [
    {
     "data": {
      "text/plain": [
       "<_io.TextIOWrapper name='big.txt' mode='w' encoding='cp1252'>"
      ]
     },
     "execution_count": 12,
     "metadata": {},
     "output_type": "execute_result"
    }
   ],
   "source": [
    "bf"
   ]
  },
  {
   "cell_type": "code",
   "execution_count": 13,
   "id": "b19edac4",
   "metadata": {},
   "outputs": [
    {
     "name": "stdout",
     "output_type": "stream",
     "text": [
      "backwater\n"
     ]
    }
   ],
   "source": [
    "print(random.choice(open(\"big.txt\").read().split()))"
   ]
  },
  {
   "cell_type": "code",
   "execution_count": 14,
   "id": "d5e01834",
   "metadata": {},
   "outputs": [],
   "source": [
    "sourceWord = random.choice(open(\"big.txt\").read().split())"
   ]
  },
  {
   "cell_type": "code",
   "execution_count": 15,
   "id": "99d58ed6",
   "metadata": {},
   "outputs": [
    {
     "data": {
      "text/plain": [
       "'rewording'"
      ]
     },
     "execution_count": 15,
     "metadata": {},
     "output_type": "execute_result"
    }
   ],
   "source": [
    "sourceWord"
   ]
  },
  {
   "cell_type": "code",
   "execution_count": 16,
   "id": "4111a54d",
   "metadata": {},
   "outputs": [],
   "source": [
    "from collections import Counter "
   ]
  },
  {
   "cell_type": "code",
   "execution_count": 17,
   "id": "893eff43",
   "metadata": {},
   "outputs": [],
   "source": [
    "counter1 = Counter(\"smaaaaash\")"
   ]
  },
  {
   "cell_type": "code",
   "execution_count": 18,
   "id": "063a00c1",
   "metadata": {},
   "outputs": [],
   "source": [
    "counter2 = Counter(sourceWord)"
   ]
  },
  {
   "cell_type": "code",
   "execution_count": 19,
   "id": "684ba2b5",
   "metadata": {},
   "outputs": [
    {
     "data": {
      "text/plain": [
       "Counter({'r': 2, 'e': 1, 'w': 1, 'o': 1, 'd': 1, 'i': 1, 'n': 1, 'g': 1})"
      ]
     },
     "execution_count": 19,
     "metadata": {},
     "output_type": "execute_result"
    }
   ],
   "source": [
    "counter2"
   ]
  },
  {
   "cell_type": "code",
   "execution_count": 20,
   "id": "84064c74",
   "metadata": {},
   "outputs": [],
   "source": [
    "counter3 = counter2 - counter1"
   ]
  },
  {
   "cell_type": "code",
   "execution_count": 21,
   "id": "9c783c46",
   "metadata": {},
   "outputs": [],
   "source": [
    "counter2.subtract(counter1)"
   ]
  },
  {
   "cell_type": "code",
   "execution_count": 22,
   "id": "61be9853",
   "metadata": {},
   "outputs": [
    {
     "name": "stdout",
     "output_type": "stream",
     "text": [
      "Counter({'r': 2, 'e': 1, 'w': 1, 'o': 1, 'd': 1, 'i': 1, 'n': 1, 'g': 1, 'm': -1, 'h': -1, 's': -2, 'a': -5})\n"
     ]
    }
   ],
   "source": [
    "print(counter2)"
   ]
  },
  {
   "cell_type": "code",
   "execution_count": 23,
   "id": "737f63a5",
   "metadata": {},
   "outputs": [
    {
     "name": "stdout",
     "output_type": "stream",
     "text": [
      "Put all your answer here and seperate them with spaceword reword ding ring wing eing \n"
     ]
    }
   ],
   "source": [
    "theInputs = input(\"Put all your answer here and seperate them with space\")"
   ]
  },
  {
   "cell_type": "code",
   "execution_count": 24,
   "id": "a7710544",
   "metadata": {},
   "outputs": [],
   "source": [
    "guesses = theInputs.split(\" \")"
   ]
  },
  {
   "cell_type": "code",
   "execution_count": 25,
   "id": "fba15003",
   "metadata": {},
   "outputs": [
    {
     "name": "stdout",
     "output_type": "stream",
     "text": [
      "['word', 'reword', 'ding', 'ring', 'wing', 'eing', '']\n"
     ]
    }
   ],
   "source": [
    "print(guesses)"
   ]
  },
  {
   "cell_type": "code",
   "execution_count": 46,
   "id": "67fbff13",
   "metadata": {},
   "outputs": [],
   "source": [
    "guesses = ['word', 'reword', 'ding', 'ring', 'wing', 'eing', '']"
   ]
  },
  {
   "cell_type": "code",
   "execution_count": 47,
   "id": "2dadc9c4",
   "metadata": {},
   "outputs": [
    {
     "name": "stdout",
     "output_type": "stream",
     "text": [
      "Valid\n",
      "Valid\n",
      "Valid\n",
      "Valid\n",
      "Valid\n"
     ]
    }
   ],
   "source": [
    "for words in guesses:\n",
    "    if words in open(\"small.txt\").read().split():\n",
    "        print(\"Valid\")"
   ]
  },
  {
   "cell_type": "code",
   "execution_count": 48,
   "id": "b857ef4c",
   "metadata": {},
   "outputs": [],
   "source": [
    "listOfCounter =[]\n",
    "for words in guesses:\n",
    "    listOfCounter.append(Counter(words))"
   ]
  },
  {
   "cell_type": "code",
   "execution_count": 49,
   "id": "a93aadcb",
   "metadata": {},
   "outputs": [
    {
     "data": {
      "text/plain": [
       "[Counter({'w': 1, 'o': 1, 'r': 1, 'd': 1}),\n",
       " Counter({'r': 2, 'e': 1, 'w': 1, 'o': 1, 'd': 1}),\n",
       " Counter({'d': 1, 'i': 1, 'n': 1, 'g': 1}),\n",
       " Counter({'r': 1, 'i': 1, 'n': 1, 'g': 1}),\n",
       " Counter({'w': 1, 'i': 1, 'n': 1, 'g': 1}),\n",
       " Counter({'e': 1, 'i': 1, 'n': 1, 'g': 1}),\n",
       " Counter()]"
      ]
     },
     "execution_count": 49,
     "metadata": {},
     "output_type": "execute_result"
    }
   ],
   "source": [
    "listOfCounter"
   ]
  },
  {
   "cell_type": "code",
   "execution_count": 50,
   "id": "a56b7379",
   "metadata": {},
   "outputs": [
    {
     "name": "stdout",
     "output_type": "stream",
     "text": [
      "Counter({'r': 2, 'e': 1, 'w': 1, 'o': 1, 'd': 1, 'i': 1, 'n': 1, 'g': 1})\n"
     ]
    }
   ],
   "source": [
    "sourceWordCounter = Counter(sourceWord)\n",
    "print(sourceWordCounter)"
   ]
  },
  {
   "cell_type": "code",
   "execution_count": 51,
   "id": "7da78dfd",
   "metadata": {},
   "outputs": [
    {
     "name": "stdout",
     "output_type": "stream",
     "text": [
      "Counter({'w': 1, 'o': 1, 'r': 1, 'd': 1})\n"
     ]
    }
   ],
   "source": [
    "current = listOfCounter[0]\n",
    "print(current)"
   ]
  },
  {
   "cell_type": "code",
   "execution_count": 52,
   "id": "118fa21a",
   "metadata": {},
   "outputs": [],
   "source": [
    "for current in listOfCounter:\n",
    "    for letter in current:\n",
    "        if current[letter] > sourceWordCounter[letter]:\n",
    "            print(f\"You use invalid letter : {letter}\")\n",
    "            "
   ]
  },
  {
   "cell_type": "code",
   "execution_count": 53,
   "id": "c4b22a91",
   "metadata": {},
   "outputs": [
    {
     "data": {
      "text/plain": [
       "9"
      ]
     },
     "execution_count": 53,
     "metadata": {},
     "output_type": "execute_result"
    }
   ],
   "source": [
    "len(sourceWord)"
   ]
  },
  {
   "cell_type": "code",
   "execution_count": 54,
   "id": "26495820",
   "metadata": {},
   "outputs": [
    {
     "data": {
      "text/plain": [
       "['word', 'reword', 'ding', 'ring', 'wing', 'eing', '']"
      ]
     },
     "execution_count": 54,
     "metadata": {},
     "output_type": "execute_result"
    }
   ],
   "source": [
    "guesses"
   ]
  },
  {
   "cell_type": "code",
   "execution_count": 55,
   "id": "6fcf616b",
   "metadata": {},
   "outputs": [],
   "source": [
    "duplicate = guesses "
   ]
  },
  {
   "cell_type": "code",
   "execution_count": 56,
   "id": "3ea2754a",
   "metadata": {},
   "outputs": [
    {
     "data": {
      "text/plain": [
       "['word', 'reword', 'ding', 'ring', 'wing', 'eing', '']"
      ]
     },
     "execution_count": 56,
     "metadata": {},
     "output_type": "execute_result"
    }
   ],
   "source": [
    "duplicate"
   ]
  },
  {
   "cell_type": "code",
   "execution_count": 57,
   "id": "43a94ee6",
   "metadata": {},
   "outputs": [],
   "source": [
    "def has_duplicates(values):\n",
    "    if len(values) != len(set(values)):\n",
    "        return True\n",
    "    else:\n",
    "        return False"
   ]
  },
  {
   "cell_type": "code",
   "execution_count": 58,
   "id": "a1f1f961",
   "metadata": {},
   "outputs": [
    {
     "data": {
      "text/plain": [
       "False"
      ]
     },
     "execution_count": 58,
     "metadata": {},
     "output_type": "execute_result"
    }
   ],
   "source": [
    "has_duplicates(guesses)"
   ]
  },
  {
   "cell_type": "code",
   "execution_count": 59,
   "id": "271d2356",
   "metadata": {},
   "outputs": [
    {
     "data": {
      "text/plain": [
       "Counter({'word': 1,\n",
       "         'reword': 1,\n",
       "         'ding': 1,\n",
       "         'ring': 1,\n",
       "         'wing': 1,\n",
       "         'eing': 1,\n",
       "         '': 1})"
      ]
     },
     "execution_count": 59,
     "metadata": {},
     "output_type": "execute_result"
    }
   ],
   "source": [
    "Counter(guesses)"
   ]
  },
  {
   "cell_type": "code",
   "execution_count": 60,
   "id": "7c54b365",
   "metadata": {},
   "outputs": [
    {
     "data": {
      "text/plain": [
       "[]"
      ]
     },
     "execution_count": 60,
     "metadata": {},
     "output_type": "execute_result"
    }
   ],
   "source": [
    "[key for key in Counter(guesses).keys() if Counter(guesses)[key]>1]"
   ]
  },
  {
   "cell_type": "code",
   "execution_count": 61,
   "id": "2572fe81",
   "metadata": {},
   "outputs": [],
   "source": [
    "smallWordList = []\n",
    "\n",
    "with open(\"small.txt\") as sf:\n",
    "    for words in sf:\n",
    "        words = words.strip(\"\\n\").lower()\n",
    "        smallWordList.append(words)"
   ]
  },
  {
   "cell_type": "code",
   "execution_count": 62,
   "id": "a2fa00e9",
   "metadata": {},
   "outputs": [
    {
     "data": {
      "text/plain": [
       "['aachen',\n",
       " 'aaliyah',\n",
       " 'aaron',\n",
       " 'abbas',\n",
       " 'abbasid',\n",
       " 'abbott',\n",
       " 'abby',\n",
       " 'abdul',\n",
       " 'abel',\n",
       " 'abelard',\n",
       " 'abelson',\n",
       " 'abidjan',\n",
       " 'abigail',\n",
       " 'abilene',\n",
       " 'abner',\n",
       " 'abraham',\n",
       " 'abram',\n",
       " 'abrams',\n",
       " 'absalom',\n",
       " 'abuja',\n",
       " 'acadia',\n",
       " 'accra',\n",
       " 'acevedo',\n",
       " 'achaean',\n",
       " 'achebe',\n",
       " 'acheson',\n",
       " 'acosta',\n",
       " 'acrux',\n",
       " 'actaeon',\n",
       " 'acton',\n",
       " 'acts',\n",
       " 'acuff',\n",
       " 'adam',\n",
       " 'adams',\n",
       " 'adan',\n",
       " 'adana',\n",
       " 'adar',\n",
       " 'addams',\n",
       " 'addie',\n",
       " 'addison',\n",
       " 'adela',\n",
       " 'adele',\n",
       " 'adeline',\n",
       " 'aden',\n",
       " 'adhara',\n",
       " 'adidas',\n",
       " 'adkins',\n",
       " 'adler',\n",
       " 'adolf',\n",
       " 'adolfo',\n",
       " 'adolph',\n",
       " 'adonis',\n",
       " 'adrian',\n",
       " 'adriana',\n",
       " 'advent',\n",
       " 'advents',\n",
       " 'advil',\n",
       " 'aegean',\n",
       " 'aelfric',\n",
       " 'aeneas',\n",
       " 'aeneid',\n",
       " 'aeolus',\n",
       " 'aesop',\n",
       " 'afghan',\n",
       " 'afghani',\n",
       " 'afghans',\n",
       " 'africa',\n",
       " 'african',\n",
       " 'afro',\n",
       " 'afros',\n",
       " 'agassi',\n",
       " 'agassiz',\n",
       " 'agatha',\n",
       " 'aggie',\n",
       " 'aglaia',\n",
       " 'agnes',\n",
       " 'agnew',\n",
       " 'agni',\n",
       " 'agra',\n",
       " 'agrippa',\n",
       " 'aguilar',\n",
       " 'aguirre',\n",
       " 'agustin',\n",
       " 'ahab',\n",
       " 'ahmad',\n",
       " 'ahmed',\n",
       " 'ahriman',\n",
       " 'aida',\n",
       " 'aiken',\n",
       " 'aileen',\n",
       " 'aimee',\n",
       " 'ainu',\n",
       " 'aires',\n",
       " 'aisha',\n",
       " 'ajax',\n",
       " 'akbar',\n",
       " 'akihito',\n",
       " 'akita',\n",
       " 'akiva',\n",
       " 'akkad',\n",
       " 'akron',\n",
       " 'alabama',\n",
       " 'aladdin',\n",
       " 'alamo',\n",
       " 'alan',\n",
       " 'alana',\n",
       " 'alar',\n",
       " 'alaric',\n",
       " 'alaska',\n",
       " 'alaskan',\n",
       " 'alba',\n",
       " 'albania',\n",
       " 'albany',\n",
       " 'albee',\n",
       " 'alberio',\n",
       " 'albert',\n",
       " 'alberta',\n",
       " 'alberto',\n",
       " 'albion',\n",
       " 'albireo',\n",
       " 'alcmena',\n",
       " 'alcoa',\n",
       " 'alcott',\n",
       " 'alcuin',\n",
       " 'alcyone',\n",
       " 'aldan',\n",
       " 'alden',\n",
       " 'aldo',\n",
       " 'aldrin',\n",
       " 'alec',\n",
       " 'aleppo',\n",
       " 'aleut',\n",
       " 'alex',\n",
       " 'alexei',\n",
       " 'alexis',\n",
       " 'alfonso',\n",
       " 'alfonzo',\n",
       " 'alford',\n",
       " 'alfred',\n",
       " 'alfreda',\n",
       " 'alfredo',\n",
       " 'algenib',\n",
       " 'alger',\n",
       " 'algeria',\n",
       " 'algieba',\n",
       " 'algiers',\n",
       " 'algol',\n",
       " 'alhena',\n",
       " 'alice',\n",
       " 'alicia',\n",
       " 'aline',\n",
       " 'alioth',\n",
       " 'alisa',\n",
       " 'alisha',\n",
       " 'alison',\n",
       " 'alissa',\n",
       " 'alkaid',\n",
       " 'allah',\n",
       " 'allan',\n",
       " 'allegra',\n",
       " 'allen',\n",
       " 'allende',\n",
       " 'allie',\n",
       " 'allison',\n",
       " 'allyson',\n",
       " 'alma',\n",
       " 'almach',\n",
       " 'almaty',\n",
       " 'almohad',\n",
       " 'alnilam',\n",
       " 'alnitak',\n",
       " 'alonzo',\n",
       " 'alpert',\n",
       " 'alphard',\n",
       " 'alpine',\n",
       " 'alpo',\n",
       " 'alps',\n",
       " 'alsace',\n",
       " 'alsop',\n",
       " 'alston',\n",
       " 'altai',\n",
       " 'altaic',\n",
       " 'altair',\n",
       " 'althea',\n",
       " 'altman',\n",
       " 'altoids',\n",
       " 'alton',\n",
       " 'aludra',\n",
       " 'alva',\n",
       " 'alvarez',\n",
       " 'alvaro',\n",
       " 'alvin',\n",
       " 'alyce',\n",
       " 'alyson',\n",
       " 'alyssa',\n",
       " 'amadeus',\n",
       " 'amado',\n",
       " 'amalia',\n",
       " 'amanda',\n",
       " 'amaru',\n",
       " 'amati',\n",
       " 'amazon',\n",
       " 'amazons',\n",
       " 'amber',\n",
       " 'amelia',\n",
       " 'america',\n",
       " 'amerind',\n",
       " 'ameslan',\n",
       " 'amharic',\n",
       " 'amherst',\n",
       " 'amie',\n",
       " 'amiga',\n",
       " 'amish',\n",
       " 'amman',\n",
       " 'amoco',\n",
       " 'amos',\n",
       " 'amparo',\n",
       " 'ampere',\n",
       " 'amtrak',\n",
       " 'amur',\n",
       " 'amway',\n",
       " 'anabel',\n",
       " 'anacin',\n",
       " 'anaheim',\n",
       " 'ananias',\n",
       " 'anasazi',\n",
       " 'anatole',\n",
       " 'andaman',\n",
       " 'andean',\n",
       " 'andes',\n",
       " 'andorra',\n",
       " 'andre',\n",
       " 'andrea',\n",
       " 'andrei',\n",
       " 'andres',\n",
       " 'andrew',\n",
       " 'andrews',\n",
       " 'android',\n",
       " 'andy',\n",
       " 'angara',\n",
       " 'angel',\n",
       " 'angela',\n",
       " 'angeles',\n",
       " 'angelia',\n",
       " 'angelo',\n",
       " 'angelou',\n",
       " 'angevin',\n",
       " 'angie',\n",
       " 'angkor',\n",
       " 'anglia',\n",
       " 'anglo',\n",
       " 'angola',\n",
       " 'angolan',\n",
       " 'angora',\n",
       " 'angoras',\n",
       " 'angus',\n",
       " 'anibal',\n",
       " 'anita',\n",
       " 'ankara',\n",
       " 'anna',\n",
       " 'annabel',\n",
       " 'annam',\n",
       " 'anne',\n",
       " 'annette',\n",
       " 'annie',\n",
       " 'anouilh',\n",
       " 'anselm',\n",
       " 'anselmo',\n",
       " 'anshan',\n",
       " 'antaeus',\n",
       " 'antares',\n",
       " 'anthony',\n",
       " 'antigua',\n",
       " 'antioch',\n",
       " 'antipas',\n",
       " 'antoine',\n",
       " 'anton',\n",
       " 'antone',\n",
       " 'antonia',\n",
       " 'antonio',\n",
       " 'antony',\n",
       " 'antwan',\n",
       " 'antwerp',\n",
       " 'anubis',\n",
       " 'anzac',\n",
       " 'apache',\n",
       " 'apaches',\n",
       " 'apia',\n",
       " 'apollo',\n",
       " 'apollos',\n",
       " 'apple',\n",
       " 'april',\n",
       " 'aprils',\n",
       " 'aquila',\n",
       " 'aquinas',\n",
       " 'aquino',\n",
       " 'arab',\n",
       " 'arabia',\n",
       " 'arabian',\n",
       " 'arabic',\n",
       " 'arabs',\n",
       " 'araby',\n",
       " 'araceli',\n",
       " 'arafat',\n",
       " 'aral',\n",
       " 'aramaic',\n",
       " 'aramco',\n",
       " 'arapaho',\n",
       " 'ararat',\n",
       " 'arawak',\n",
       " 'arcadia',\n",
       " 'archean',\n",
       " 'archie',\n",
       " 'arctic',\n",
       " 'arden',\n",
       " 'ares',\n",
       " 'argo',\n",
       " 'argonne',\n",
       " 'argos',\n",
       " 'argus',\n",
       " 'ariadne',\n",
       " 'ariel',\n",
       " 'aries',\n",
       " 'arieses',\n",
       " 'ariosto',\n",
       " 'arius',\n",
       " 'arizona',\n",
       " 'arjuna',\n",
       " 'arlene',\n",
       " 'arline',\n",
       " 'armand',\n",
       " 'armando',\n",
       " 'armani',\n",
       " 'armenia',\n",
       " 'armonk',\n",
       " 'armour',\n",
       " 'arneb',\n",
       " 'arnhem',\n",
       " 'arno',\n",
       " 'arnold',\n",
       " 'arnulfo',\n",
       " 'aron',\n",
       " 'arron',\n",
       " 'artemis',\n",
       " 'arthur',\n",
       " 'artie',\n",
       " 'arturo',\n",
       " 'aruba',\n",
       " 'aryan',\n",
       " 'aryans',\n",
       " 'asama',\n",
       " 'ascella',\n",
       " 'asgard',\n",
       " 'ashanti',\n",
       " 'ashe',\n",
       " 'ashlee',\n",
       " 'ashley',\n",
       " 'asia',\n",
       " 'asiago',\n",
       " 'asian',\n",
       " 'asians',\n",
       " 'asiatic',\n",
       " 'asimov',\n",
       " 'asmara',\n",
       " 'asoka',\n",
       " 'aspell',\n",
       " 'aspen',\n",
       " 'asquith',\n",
       " 'assad',\n",
       " 'assam',\n",
       " 'assisi',\n",
       " 'assyria',\n",
       " 'astaire',\n",
       " 'astana',\n",
       " 'astarte',\n",
       " 'aston',\n",
       " 'astor',\n",
       " 'astoria',\n",
       " 'aswan',\n",
       " 'atacama',\n",
       " 'atari',\n",
       " 'athena',\n",
       " 'athens',\n",
       " 'atkins',\n",
       " 'atlanta',\n",
       " 'atlas',\n",
       " 'atlases',\n",
       " 'atman',\n",
       " 'atreus',\n",
       " 'atria',\n",
       " 'atropos',\n",
       " 'attic',\n",
       " 'attica',\n",
       " 'attila',\n",
       " 'attlee',\n",
       " 'attucks',\n",
       " 'atwood',\n",
       " 'aubrey',\n",
       " 'auden',\n",
       " 'audi',\n",
       " 'audion',\n",
       " 'audra',\n",
       " 'audrey',\n",
       " 'audubon',\n",
       " 'augean',\n",
       " 'august',\n",
       " 'augusta',\n",
       " 'augusts',\n",
       " 'aurelia',\n",
       " 'aurelio',\n",
       " 'auriga',\n",
       " 'aurora',\n",
       " 'aussie',\n",
       " 'aussies',\n",
       " 'austen',\n",
       " 'austin',\n",
       " 'austins',\n",
       " 'austria',\n",
       " 'autumn',\n",
       " 'avalon',\n",
       " 'avernus',\n",
       " 'avery',\n",
       " 'avesta',\n",
       " 'avignon',\n",
       " 'avila',\n",
       " 'avior',\n",
       " 'avis',\n",
       " 'avon',\n",
       " 'axum',\n",
       " 'ayala',\n",
       " 'ayers',\n",
       " 'aymara',\n",
       " 'ayyubid',\n",
       " 'azana',\n",
       " 'azania',\n",
       " 'azazel',\n",
       " 'azores',\n",
       " 'azov',\n",
       " 'aztec',\n",
       " 'aztecan',\n",
       " 'aztecs',\n",
       " 'aztlan',\n",
       " 'baal',\n",
       " 'baath',\n",
       " 'babar',\n",
       " 'babbage',\n",
       " 'babbitt',\n",
       " 'babel',\n",
       " 'babels',\n",
       " 'babur',\n",
       " 'babylon',\n",
       " 'bacall',\n",
       " 'bacardi',\n",
       " 'bacchus',\n",
       " 'bach',\n",
       " 'backus',\n",
       " 'bacon',\n",
       " 'bactria',\n",
       " 'baden',\n",
       " 'baez',\n",
       " 'baffin',\n",
       " 'baggies',\n",
       " 'baghdad',\n",
       " 'baguio',\n",
       " \"baha'i\",\n",
       " 'bahama',\n",
       " 'bahamas',\n",
       " 'bahia',\n",
       " 'bahrain',\n",
       " 'baikal',\n",
       " 'bailey',\n",
       " 'baird',\n",
       " 'baker',\n",
       " 'baku',\n",
       " 'bakunin',\n",
       " 'balaton',\n",
       " 'balboa',\n",
       " 'balder',\n",
       " 'baldwin',\n",
       " 'balfour',\n",
       " 'bali',\n",
       " 'balkan',\n",
       " 'balkans',\n",
       " 'ball',\n",
       " 'ballard',\n",
       " 'baltic',\n",
       " 'balzac',\n",
       " 'bamako',\n",
       " 'bambi',\n",
       " 'banach',\n",
       " 'bandung',\n",
       " 'bangkok',\n",
       " 'bangor',\n",
       " 'bangui',\n",
       " 'banjul',\n",
       " 'banks',\n",
       " 'banting',\n",
       " 'bantu',\n",
       " 'bantus',\n",
       " 'baotou',\n",
       " 'baptist',\n",
       " 'barack',\n",
       " 'barbara',\n",
       " 'barbary',\n",
       " 'barber',\n",
       " 'barbie',\n",
       " 'barbour',\n",
       " 'barbra',\n",
       " 'barbuda',\n",
       " 'barclay',\n",
       " 'bardeen',\n",
       " 'barents',\n",
       " 'barker',\n",
       " 'barkley',\n",
       " 'barlow',\n",
       " 'barnaby',\n",
       " 'barnard',\n",
       " 'barnaul',\n",
       " 'barnes',\n",
       " 'barnett',\n",
       " 'barney',\n",
       " 'barnum',\n",
       " 'baroda',\n",
       " 'barr',\n",
       " 'barrera',\n",
       " 'barrett',\n",
       " 'barrie',\n",
       " 'barron',\n",
       " 'barry',\n",
       " 'barth',\n",
       " 'barton',\n",
       " 'baruch',\n",
       " 'basel',\n",
       " 'basho',\n",
       " 'basie',\n",
       " 'basil',\n",
       " 'basque',\n",
       " 'basques',\n",
       " 'basra',\n",
       " 'bass',\n",
       " 'bataan',\n",
       " 'bates',\n",
       " 'batista',\n",
       " 'batman',\n",
       " 'battle',\n",
       " 'batu',\n",
       " 'bauer',\n",
       " 'bauhaus',\n",
       " 'baum',\n",
       " 'bavaria',\n",
       " 'baxter',\n",
       " 'bayer',\n",
       " 'bayes',\n",
       " 'bayeux',\n",
       " 'baylor',\n",
       " 'bayonne',\n",
       " 'beach',\n",
       " 'beadle',\n",
       " 'bean',\n",
       " 'beard',\n",
       " 'beasley',\n",
       " 'beatles',\n",
       " 'beatrix',\n",
       " 'beatriz',\n",
       " 'beau',\n",
       " 'bechtel',\n",
       " 'beck',\n",
       " 'becker',\n",
       " 'becket',\n",
       " 'beckett',\n",
       " 'becky',\n",
       " 'bede',\n",
       " 'bedouin',\n",
       " 'beebe',\n",
       " 'beecher',\n",
       " 'beeton',\n",
       " 'begin',\n",
       " 'behan',\n",
       " 'behring',\n",
       " 'beijing',\n",
       " 'beirut',\n",
       " 'bekesy',\n",
       " 'bela',\n",
       " 'belarus',\n",
       " 'belau',\n",
       " 'belem',\n",
       " 'belfast',\n",
       " 'belgian',\n",
       " 'belgium',\n",
       " 'belinda',\n",
       " 'belize',\n",
       " 'bell',\n",
       " 'bella',\n",
       " 'bellamy',\n",
       " 'belleek',\n",
       " 'bellini',\n",
       " 'bellow',\n",
       " 'belmont',\n",
       " 'beltane',\n",
       " 'belushi',\n",
       " 'benares',\n",
       " 'bender',\n",
       " 'bendix',\n",
       " 'benelux',\n",
       " 'benet',\n",
       " 'bengal',\n",
       " 'bengali',\n",
       " 'benin',\n",
       " 'benita',\n",
       " 'benito',\n",
       " 'bennett',\n",
       " 'bennie',\n",
       " 'benny',\n",
       " 'benson',\n",
       " 'bentham',\n",
       " 'bentley',\n",
       " 'benton',\n",
       " 'benz',\n",
       " 'beowulf',\n",
       " 'berber',\n",
       " 'berbers',\n",
       " 'beretta',\n",
       " 'berg',\n",
       " 'bergen',\n",
       " 'berger',\n",
       " 'bergman',\n",
       " 'bergson',\n",
       " 'beria',\n",
       " 'bering',\n",
       " 'berle',\n",
       " 'berlin',\n",
       " 'berlins',\n",
       " 'berlioz',\n",
       " 'berlitz',\n",
       " 'bermuda',\n",
       " 'bern',\n",
       " 'bernard',\n",
       " 'bernays',\n",
       " 'berne',\n",
       " 'bernice',\n",
       " 'bernie',\n",
       " 'bernini',\n",
       " 'berra',\n",
       " 'berry',\n",
       " 'bert',\n",
       " 'berta',\n",
       " 'bertha',\n",
       " 'bertie',\n",
       " 'bertram',\n",
       " 'beryl',\n",
       " 'bess',\n",
       " 'bessel',\n",
       " 'bessie',\n",
       " 'best',\n",
       " 'beth',\n",
       " 'bethany',\n",
       " 'bethe',\n",
       " 'bethune',\n",
       " 'betsy',\n",
       " 'bette',\n",
       " 'bettie',\n",
       " 'betty',\n",
       " 'bettye',\n",
       " 'beulah',\n",
       " 'beverly',\n",
       " 'beyer',\n",
       " 'bhopal',\n",
       " 'bhutan',\n",
       " 'bhutto',\n",
       " 'bianca',\n",
       " 'bible',\n",
       " 'bibles',\n",
       " 'biddle',\n",
       " 'biden',\n",
       " 'bierce',\n",
       " 'bigfoot',\n",
       " 'biggles',\n",
       " 'biko',\n",
       " 'bilbao',\n",
       " 'bilbo',\n",
       " 'bill',\n",
       " 'billie',\n",
       " 'billy',\n",
       " 'bimini',\n",
       " 'bioko',\n",
       " 'bird',\n",
       " 'biro',\n",
       " 'biscay',\n",
       " 'bishkek',\n",
       " 'bishop',\n",
       " 'bismark',\n",
       " 'bissau',\n",
       " 'bizet',\n",
       " 'bjork',\n",
       " 'black',\n",
       " 'blacks',\n",
       " 'blaine',\n",
       " 'blair',\n",
       " 'blake',\n",
       " 'blanca',\n",
       " 'blanche',\n",
       " 'blatz',\n",
       " 'blevins',\n",
       " 'bligh',\n",
       " 'bloch',\n",
       " 'blondel',\n",
       " 'blondie',\n",
       " 'bloom',\n",
       " 'bloomer',\n",
       " 'blucher',\n",
       " 'blythe',\n",
       " 'boas',\n",
       " 'bobbi',\n",
       " 'bobbie',\n",
       " 'bobbitt',\n",
       " 'bobby',\n",
       " 'boeing',\n",
       " 'boeotia',\n",
       " 'boer',\n",
       " 'boers',\n",
       " 'bogart',\n",
       " 'bohemia',\n",
       " 'bohr',\n",
       " 'boise',\n",
       " 'boleyn',\n",
       " 'bolivar',\n",
       " 'bolivia',\n",
       " 'bologna',\n",
       " 'bolshoi',\n",
       " 'bolton',\n",
       " 'bombay',\n",
       " 'bond',\n",
       " 'bonita',\n",
       " 'bonn',\n",
       " 'bonner',\n",
       " 'bonnie',\n",
       " 'bono',\n",
       " 'booker',\n",
       " 'boole',\n",
       " 'boolean',\n",
       " 'boone',\n",
       " 'booth',\n",
       " 'borden',\n",
       " 'bordon',\n",
       " 'boreas',\n",
       " 'borg',\n",
       " 'borges',\n",
       " 'borgia',\n",
       " 'borglum',\n",
       " 'boris',\n",
       " 'bork',\n",
       " 'borlaug',\n",
       " 'born',\n",
       " 'borneo',\n",
       " 'borodin',\n",
       " 'boru',\n",
       " 'bosch',\n",
       " 'bose',\n",
       " 'bosnia',\n",
       " 'boston',\n",
       " 'bostons',\n",
       " 'boswell',\n",
       " 'botox',\n",
       " 'boulder',\n",
       " 'boulez',\n",
       " 'bourbon',\n",
       " 'bovary',\n",
       " 'bowell',\n",
       " 'bowen',\n",
       " 'bowers',\n",
       " 'bowery',\n",
       " 'bowie',\n",
       " 'bowman',\n",
       " 'boyd',\n",
       " 'boyer',\n",
       " 'boyle',\n",
       " 'brad',\n",
       " 'bradley',\n",
       " 'bradly',\n",
       " 'brady',\n",
       " 'bragg',\n",
       " 'brahe',\n",
       " 'brahma',\n",
       " 'brahman',\n",
       " 'brahmas',\n",
       " 'brahmin',\n",
       " 'brahms',\n",
       " 'braille',\n",
       " 'brain',\n",
       " 'bran',\n",
       " 'branch',\n",
       " 'branden',\n",
       " 'brandi',\n",
       " 'brandie',\n",
       " 'brando',\n",
       " 'brandon',\n",
       " 'brandt',\n",
       " 'brandy',\n",
       " 'brant',\n",
       " 'braque',\n",
       " 'bray',\n",
       " 'brazil',\n",
       " 'brazos',\n",
       " 'brecht',\n",
       " 'bremen',\n",
       " 'brenda',\n",
       " 'brendan',\n",
       " 'brennan',\n",
       " 'brenner',\n",
       " 'brent',\n",
       " 'brenton',\n",
       " 'brest',\n",
       " 'bret',\n",
       " 'breton',\n",
       " 'brett',\n",
       " 'brewer',\n",
       " 'brexit',\n",
       " 'brian',\n",
       " 'briana',\n",
       " 'brianna',\n",
       " 'brice',\n",
       " 'bridger',\n",
       " 'bridges',\n",
       " 'bridget',\n",
       " 'brie',\n",
       " 'briggs',\n",
       " 'brigham',\n",
       " 'bright',\n",
       " 'brigid',\n",
       " 'brillo',\n",
       " 'bristol',\n",
       " 'brit',\n",
       " 'britain',\n",
       " 'british',\n",
       " 'britney',\n",
       " 'briton',\n",
       " 'britons',\n",
       " 'brits',\n",
       " 'britt',\n",
       " 'britten',\n",
       " 'brno',\n",
       " 'brock',\n",
       " 'brokaw',\n",
       " 'bronson',\n",
       " 'bronte',\n",
       " 'bronx',\n",
       " 'brooke',\n",
       " 'brooks',\n",
       " 'brown',\n",
       " 'browne',\n",
       " 'brownie',\n",
       " 'brubeck',\n",
       " 'bruce',\n",
       " 'brummel',\n",
       " 'brunei',\n",
       " 'bruno',\n",
       " 'brut',\n",
       " 'brutus',\n",
       " 'bryan',\n",
       " 'bryant',\n",
       " 'bryce',\n",
       " 'brynner',\n",
       " 'bryon',\n",
       " 'buber',\n",
       " 'buck',\n",
       " 'buckley',\n",
       " 'buckner',\n",
       " 'buddha',\n",
       " 'buddhas',\n",
       " 'buddy',\n",
       " 'buffalo',\n",
       " 'buffy',\n",
       " 'buford',\n",
       " 'bugatti',\n",
       " 'buick',\n",
       " 'bukhara',\n",
       " 'bulgar',\n",
       " 'bulgari',\n",
       " 'bullock',\n",
       " 'bumppo',\n",
       " 'bunche',\n",
       " 'bunin',\n",
       " 'bunker',\n",
       " 'bunsen',\n",
       " 'bunyan',\n",
       " 'burbank',\n",
       " 'burch',\n",
       " 'burger',\n",
       " 'burgess',\n",
       " 'burke',\n",
       " 'burks',\n",
       " 'burl',\n",
       " 'burma',\n",
       " 'burmese',\n",
       " 'burnett',\n",
       " 'burns',\n",
       " 'burr',\n",
       " 'burris',\n",
       " 'bursa',\n",
       " 'burt',\n",
       " 'burton',\n",
       " 'burundi',\n",
       " 'busch',\n",
       " 'bush',\n",
       " 'bushido',\n",
       " 'butler',\n",
       " 'byblos',\n",
       " 'byers',\n",
       " 'byrd',\n",
       " 'byron',\n",
       " 'byronic',\n",
       " 'cabinet',\n",
       " 'cabot',\n",
       " 'cabral',\n",
       " 'cabrera',\n",
       " 'cabrini',\n",
       " 'cadiz',\n",
       " 'caedmon',\n",
       " 'caesar',\n",
       " 'caesars',\n",
       " 'cage',\n",
       " 'cagney',\n",
       " 'cahokia',\n",
       " 'cain',\n",
       " 'cains',\n",
       " 'cairo',\n",
       " 'caitlin',\n",
       " 'cajun',\n",
       " 'cajuns',\n",
       " 'calais',\n",
       " 'calder',\n",
       " 'caleb',\n",
       " 'calgary',\n",
       " 'calhoun',\n",
       " 'cali',\n",
       " 'caliban',\n",
       " 'callao',\n",
       " 'callas',\n",
       " 'callie',\n",
       " 'calvary',\n",
       " 'calvert',\n",
       " 'calvin',\n",
       " 'camacho',\n",
       " 'camel',\n",
       " 'camelot',\n",
       " 'cameron',\n",
       " 'camilla',\n",
       " 'camille',\n",
       " 'camoens',\n",
       " 'campos',\n",
       " 'camry',\n",
       " 'camus',\n",
       " 'canaan',\n",
       " 'canada',\n",
       " 'cancer',\n",
       " 'cancers',\n",
       " 'cancun',\n",
       " 'candace',\n",
       " 'candice',\n",
       " 'candide',\n",
       " 'candy',\n",
       " 'cannes',\n",
       " 'cannon',\n",
       " 'canon',\n",
       " 'canopus',\n",
       " 'canton',\n",
       " 'cantor',\n",
       " 'cantu',\n",
       " 'canute',\n",
       " 'capek',\n",
       " 'capella',\n",
       " 'capet',\n",
       " 'caph',\n",
       " 'capitol',\n",
       " 'capone',\n",
       " 'capote',\n",
       " 'capra',\n",
       " 'capri',\n",
       " 'capulet',\n",
       " 'cara',\n",
       " 'caracas',\n",
       " 'cardiff',\n",
       " 'cardin',\n",
       " 'cardozo',\n",
       " 'carey',\n",
       " 'carib',\n",
       " 'carina',\n",
       " 'carissa',\n",
       " 'carl',\n",
       " 'carla',\n",
       " 'carlene',\n",
       " 'carlin',\n",
       " 'carlo',\n",
       " 'carlos',\n",
       " 'carlson',\n",
       " 'carlton',\n",
       " 'carly',\n",
       " 'carlyle',\n",
       " 'carmela',\n",
       " 'carmelo',\n",
       " ...]"
      ]
     },
     "execution_count": 62,
     "metadata": {},
     "output_type": "execute_result"
    }
   ],
   "source": [
    "smallWordList"
   ]
  },
  {
   "cell_type": "code",
   "execution_count": 63,
   "id": "89ef88c2",
   "metadata": {},
   "outputs": [],
   "source": [
    "notRealWords = []\n",
    "for words in guesses:\n",
    "    if words in smallWordList:\n",
    "        continue\n",
    "    else:\n",
    "        notRealWords.append(words)"
   ]
  },
  {
   "cell_type": "code",
   "execution_count": 64,
   "id": "c19625af",
   "metadata": {},
   "outputs": [
    {
     "data": {
      "text/plain": [
       "['eing', '']"
      ]
     },
     "execution_count": 64,
     "metadata": {},
     "output_type": "execute_result"
    }
   ],
   "source": [
    "notRealWords"
   ]
  },
  {
   "cell_type": "code",
   "execution_count": 1,
   "id": "091db768",
   "metadata": {},
   "outputs": [],
   "source": [
    "from datetime import datetime, timedelta"
   ]
  },
  {
   "cell_type": "code",
   "execution_count": 11,
   "id": "6ee6f17f",
   "metadata": {},
   "outputs": [],
   "source": [
    "startTime = datetime.now()"
   ]
  },
  {
   "cell_type": "code",
   "execution_count": 12,
   "id": "79ff3f75",
   "metadata": {},
   "outputs": [
    {
     "name": "stdout",
     "output_type": "stream",
     "text": [
      "bla bla :yoyoyoyoy\n"
     ]
    },
    {
     "data": {
      "text/plain": [
       "'yoyoyoyoy'"
      ]
     },
     "execution_count": 12,
     "metadata": {},
     "output_type": "execute_result"
    }
   ],
   "source": [
    "input(\"bla bla :\")"
   ]
  },
  {
   "cell_type": "code",
   "execution_count": 13,
   "id": "7b7a413d",
   "metadata": {},
   "outputs": [],
   "source": [
    "finishedTime = datetime.now()"
   ]
  },
  {
   "cell_type": "code",
   "execution_count": 16,
   "id": "9f661d9d",
   "metadata": {},
   "outputs": [],
   "source": [
    "dif = finishedTime - startTime"
   ]
  },
  {
   "cell_type": "code",
   "execution_count": 17,
   "id": "30ac0753",
   "metadata": {},
   "outputs": [
    {
     "data": {
      "text/plain": [
       "datetime.timedelta(seconds=3, microseconds=583142)"
      ]
     },
     "execution_count": 17,
     "metadata": {},
     "output_type": "execute_result"
    }
   ],
   "source": [
    "dif"
   ]
  },
  {
   "cell_type": "code",
   "execution_count": 18,
   "id": "774a227d",
   "metadata": {},
   "outputs": [
    {
     "data": {
      "text/plain": [
       "3.583142"
      ]
     },
     "execution_count": 18,
     "metadata": {},
     "output_type": "execute_result"
    }
   ],
   "source": [
    "dif.total_seconds()"
   ]
  },
  {
   "cell_type": "code",
   "execution_count": 1,
   "id": "6fd3199e",
   "metadata": {},
   "outputs": [],
   "source": [
    "sourceword = \"tarnishing\""
   ]
  },
  {
   "cell_type": "code",
   "execution_count": 2,
   "id": "d2cfd875",
   "metadata": {},
   "outputs": [],
   "source": [
    "guess = [\"hating\", \"girths\", \"ring\" ,\"rings\" ,\"airing\" ,\"ninths\" ,\"right\"]"
   ]
  },
  {
   "cell_type": "code",
   "execution_count": 4,
   "id": "ee8a9f27",
   "metadata": {},
   "outputs": [],
   "source": [
    "for words in guess:\n",
    "    if words == sourceword:\n",
    "        result = False\n",
    "    else:\n",
    "        result = True\n",
    "        "
   ]
  },
  {
   "cell_type": "raw",
   "id": "3ffb3258",
   "metadata": {},
   "source": []
  }
 ],
 "metadata": {
  "kernelspec": {
   "display_name": "Python 3 (ipykernel)",
   "language": "python",
   "name": "python3"
  },
  "language_info": {
   "codemirror_mode": {
    "name": "ipython",
    "version": 3
   },
   "file_extension": ".py",
   "mimetype": "text/x-python",
   "name": "python",
   "nbconvert_exporter": "python",
   "pygments_lexer": "ipython3",
   "version": "3.9.7"
  }
 },
 "nbformat": 4,
 "nbformat_minor": 5
}
