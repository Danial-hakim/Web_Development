{
 "cells": [
  {
   "cell_type": "code",
   "execution_count": 2,
   "id": "ebdfb456",
   "metadata": {},
   "outputs": [],
   "source": [
    "URL = \"https://c00253517-analysis.anvil.app/_/api/\"\n",
    "URL_POST = URL + \"metric\""
   ]
  },
  {
   "cell_type": "code",
   "execution_count": 48,
   "id": "93e2810a",
   "metadata": {},
   "outputs": [
    {
     "data": {
      "text/plain": [
       "'https://c00253517-analysis.anvil.app/_/api/metric'"
      ]
     },
     "execution_count": 48,
     "metadata": {},
     "output_type": "execute_result"
    }
   ],
   "source": [
    "URL_POST"
   ]
  },
  {
   "cell_type": "code",
   "execution_count": 8,
   "id": "bc473c9e",
   "metadata": {},
   "outputs": [],
   "source": [
    "import requests"
   ]
  },
  {
   "cell_type": "code",
   "execution_count": 50,
   "id": "814b6c38",
   "metadata": {},
   "outputs": [],
   "source": [
    "import random "
   ]
  },
  {
   "cell_type": "code",
   "execution_count": 17,
   "id": "1285c14d",
   "metadata": {},
   "outputs": [],
   "source": [
    "import time"
   ]
  },
  {
   "cell_type": "code",
   "execution_count": 52,
   "id": "0666e966",
   "metadata": {},
   "outputs": [],
   "source": [
    "categories = [\"health\",\"shot\",\"kill\",\"hit\"]"
   ]
  },
  {
   "cell_type": "code",
   "execution_count": 53,
   "id": "c4017585",
   "metadata": {},
   "outputs": [
    {
     "data": {
      "text/plain": [
       "'kill'"
      ]
     },
     "execution_count": 53,
     "metadata": {},
     "output_type": "execute_result"
    }
   ],
   "source": [
    "random.choice(categories)"
   ]
  },
  {
   "cell_type": "code",
   "execution_count": 54,
   "id": "48d9b5e2",
   "metadata": {},
   "outputs": [],
   "source": [
    "numbers = ([-5,0,5])"
   ]
  },
  {
   "cell_type": "code",
   "execution_count": 19,
   "id": "93a2d744",
   "metadata": {},
   "outputs": [],
   "source": [
    "import datetime"
   ]
  },
  {
   "cell_type": "code",
   "execution_count": 56,
   "id": "0cf6989d",
   "metadata": {},
   "outputs": [
    {
     "data": {
      "text/plain": [
       "datetime.datetime(2022, 2, 9, 9, 58, 6, 41207)"
      ]
     },
     "execution_count": 56,
     "metadata": {},
     "output_type": "execute_result"
    }
   ],
   "source": [
    "datetime.datetime.now()"
   ]
  },
  {
   "cell_type": "code",
   "execution_count": 57,
   "id": "4d30d2cc",
   "metadata": {},
   "outputs": [],
   "source": [
    "code = repr(datetime.datetime.now())"
   ]
  },
  {
   "cell_type": "code",
   "execution_count": 58,
   "id": "cae2f9bc",
   "metadata": {},
   "outputs": [],
   "source": [
    "import json"
   ]
  },
  {
   "cell_type": "code",
   "execution_count": 69,
   "id": "d20816cf",
   "metadata": {},
   "outputs": [
    {
     "name": "stdout",
     "output_type": "stream",
     "text": [
      "{\"id\":\"[201756,361910061]\"}\n",
      "{\"id\":\"[201756,361910063]\"}\n",
      "{\"id\":\"[201756,361910064]\"}\n",
      "{\"id\":\"[201756,361910065]\"}\n",
      "{\"id\":\"[201756,361910066]\"}\n"
     ]
    }
   ],
   "source": [
    "for i in range(5):\n",
    "    ts = time.time()\n",
    "    category = random.choice(categories)\n",
    "    value = random.choice(numbers)\n",
    "    metric = {\n",
    "        \"ts\":ts,\n",
    "        \"category\":category,\n",
    "        \"value\":value,\n",
    "    }\n",
    "    #print(json.dump(metric))\n",
    "    resp = requests.post(URL_POST,json=metric)\n",
    "    print(resp.text)"
   ]
  },
  {
   "cell_type": "code",
   "execution_count": 3,
   "id": "3586ecdb",
   "metadata": {},
   "outputs": [
    {
     "data": {
      "text/plain": [
       "'https://c00253517-analysis.anvil.app/_/api/'"
      ]
     },
     "execution_count": 3,
     "metadata": {},
     "output_type": "execute_result"
    }
   ],
   "source": [
    "URL"
   ]
  },
  {
   "cell_type": "code",
   "execution_count": 22,
   "id": "2300b3fb",
   "metadata": {},
   "outputs": [],
   "source": [
    "URL_GET = URL + \"metrics\""
   ]
  },
  {
   "cell_type": "code",
   "execution_count": 23,
   "id": "99fd9e73",
   "metadata": {},
   "outputs": [
    {
     "data": {
      "text/plain": [
       "'https://c00253517-analysis.anvil.app/_/api/metrics'"
      ]
     },
     "execution_count": 23,
     "metadata": {},
     "output_type": "execute_result"
    }
   ],
   "source": [
    "URL_GET"
   ]
  },
  {
   "cell_type": "code",
   "execution_count": 24,
   "id": "a0f7ed4f",
   "metadata": {},
   "outputs": [],
   "source": [
    "data = requests.get(URL_GET)"
   ]
  },
  {
   "cell_type": "code",
   "execution_count": 25,
   "id": "8bda979c",
   "metadata": {},
   "outputs": [],
   "source": [
    "metrics = data.json()"
   ]
  },
  {
   "cell_type": "code",
   "execution_count": 26,
   "id": "ad18e930",
   "metadata": {},
   "outputs": [
    {
     "data": {
      "text/plain": [
       "[[1644410880.0, 3, 1000, 'won'],\n",
       " [1644410880.0, 0, 200, 'lose'],\n",
       " [1644484992.0, 0, 500, 'lose'],\n",
       " [1644484992.0, 0, 600, 'lose'],\n",
       " [1644484992.0, 0, 1000, 'lose'],\n",
       " [1644484992.0, 0, 500, 'lose'],\n",
       " [1644484992.0, 0, 200, 'lose'],\n",
       " [1644484992.0, 0, 0, 'lose']]"
      ]
     },
     "execution_count": 26,
     "metadata": {},
     "output_type": "execute_result"
    }
   ],
   "source": [
    "metrics"
   ]
  },
  {
   "cell_type": "code",
   "execution_count": 27,
   "id": "b7a9e5cb",
   "metadata": {},
   "outputs": [],
   "source": [
    "metrics = [ [datetime.datetime.fromtimestamp(l[0]),l[1],l[2],l[3] ] for l in metrics]"
   ]
  },
  {
   "cell_type": "code",
   "execution_count": 28,
   "id": "9927f793",
   "metadata": {},
   "outputs": [
    {
     "data": {
      "text/plain": [
       "[[datetime.datetime(2022, 2, 9, 12, 48), 3, 1000, 'won'],\n",
       " [datetime.datetime(2022, 2, 9, 12, 48), 0, 200, 'lose'],\n",
       " [datetime.datetime(2022, 2, 10, 9, 23, 12), 0, 500, 'lose'],\n",
       " [datetime.datetime(2022, 2, 10, 9, 23, 12), 0, 600, 'lose'],\n",
       " [datetime.datetime(2022, 2, 10, 9, 23, 12), 0, 1000, 'lose'],\n",
       " [datetime.datetime(2022, 2, 10, 9, 23, 12), 0, 500, 'lose'],\n",
       " [datetime.datetime(2022, 2, 10, 9, 23, 12), 0, 200, 'lose'],\n",
       " [datetime.datetime(2022, 2, 10, 9, 23, 12), 0, 0, 'lose']]"
      ]
     },
     "execution_count": 28,
     "metadata": {},
     "output_type": "execute_result"
    }
   ],
   "source": [
    "metrics"
   ]
  },
  {
   "cell_type": "code",
   "execution_count": null,
   "id": "49b4184f",
   "metadata": {},
   "outputs": [],
   "source": []
  }
 ],
 "metadata": {
  "kernelspec": {
   "display_name": "Python 3 (ipykernel)",
   "language": "python",
   "name": "python3"
  },
  "language_info": {
   "codemirror_mode": {
    "name": "ipython",
    "version": 3
   },
   "file_extension": ".py",
   "mimetype": "text/x-python",
   "name": "python",
   "nbconvert_exporter": "python",
   "pygments_lexer": "ipython3",
   "version": "3.9.7"
  }
 },
 "nbformat": 4,
 "nbformat_minor": 5
}
